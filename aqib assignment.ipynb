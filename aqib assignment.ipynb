{
 "cells": [
  {
   "cell_type": "markdown",
   "metadata": {},
   "source": [
    "# NOTE BOOK"
   ]
  },
  {
   "cell_type": "markdown",
   "metadata": {},
   "source": [
    "## Exercise 3 - Introduction\n",
    "This notebook contains exercises related to data science and programming concepts.\n",
    "\n",
    "## Exercise 4 - Data Science Languages\n",
    "- Python\n",
    "- R\n",
    "- Julia\n",
    "- SQL\n",
    "\n",
    "## Exercise 5 - Data Science Libraries\n",
    "- NumPy\n",
    "- Pandas\n",
    "- Matplotlib\n",
    "- Seaborn\n",
    "- Scikit-learn\n",
    "- TensorFlow\n",
    "- PyTorch\n",
    "\n",
    "## Exercise 6 - Data Science Tools Table\n",
    "\n",
    "| Tool          | Description                  |\n",
    "|---------------|------------------------------|\n",
    "| Jupyter       | Interactive notebooks       |\n",
    "| VS Code       | Integrated Development Environment |\n",
    "| Git           | Version control system      |\n",
    "| Docker        | Containerization platform   |\n",
    "\n",
    "## Exercise 7 - Arithmetic Expressions\n",
    "In this section, we'll explore examples of arithmetic expressions.\n",
    "\n",
    "## Exercise 8 - Multiply and Add Numbers (Code Cell)\n",
    "```python\n",
    "# Multiply and Add Numbers\n",
    "result = 5 * 3 + 7\n",
    "print(\"Result:\", result)"
   ]
  },
  {
   "cell_type": "markdown",
   "metadata": {},
   "source": [
    "# Convert Minutes to Hours\n"
   ]
  },
  {
   "cell_type": "markdown",
   "metadata": {},
   "source": [
    "minutes = 120\n",
    "hours = minutes / 60\n",
    "print(f\"{minutes} minutes is equal to {hours} hours\")"
   ]
  },
  {
   "cell_type": "markdown",
   "metadata": {},
   "source": [
    "# Exercise 10 - Objectives\n",
    "Understand data science languages.\n",
    "Explore popular data science libraries.\n",
    "Familiarize with essential data science tools.\n",
    "Practice arithmetic expressions in Python.\n"
   ]
  },
  {
   "cell_type": "markdown",
   "metadata": {},
   "source": [
    "# Exercise 11\n",
    "Muhammad Aqib Prince "
   ]
  },
  {
   "cell_type": "code",
   "execution_count": null,
   "metadata": {
    "collapsed": true
   },
   "outputs": [],
   "source": []
  }
 ],
 "metadata": {
  "kernelspec": {
   "display_name": "R",
   "language": "R",
   "name": "ir"
  },
  "language_info": {
   "codemirror_mode": "r",
   "file_extension": ".r",
   "mimetype": "text/x-r-source",
   "name": "R",
   "pygments_lexer": "r",
   "version": "3.2.2"
  }
 },
 "nbformat": 4,
 "nbformat_minor": 0
}
